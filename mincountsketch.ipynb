{
 "cells": [
  {
   "cell_type": "markdown",
   "metadata": {},
   "source": [
    "# Count-Min Sketch\n",
    "---\n",
    "\n",
    "The Count-Min (CM) sketch is a probabilistic data structure that provides\n",
    "a lossy form of compression for large count/frequency datasets.\n",
    "It is typically used for streaming data. At the heart of the CM sketch\n",
    "is hashing. The CM sketch uses a set of hash functions with corresponding,\n",
    "constant size, hash tables. These hash functions are independent from one\n",
    "another. Since the hash functions are independent, each distributes\n",
    "data differently within its hash table. This independent hashing redundancy allows\n",
    "CM sketches to achieve a high degree of lossy compression while still \n",
    "producing quality estimates of the original data.\n",
    "\n",
    "### Internals\n",
    "---\n",
    "The core data storage structure within a CM sketch is a $w$ * $d$ table, $\\text{count}$. $w$ is given by $w = \\left\\lceil\\frac{e}{\\epsilon}\\right\\rceil$ and d is given by $d = \\ln\\left(\\frac{1}{\\delta}\\right)$. $\\epsilon$ is the additive error factor that a result will be within with probability $1-\\delta$.\n",
    "\n",
    "<img src=\"./img/cm_internal_table.png\" width=\"400\" />\n",
    "\n",
    "Each row in the table is used as the hash table for one of the $1..d$ hash functions. When we add an event to the sketch, its count is added to each row.\n",
    "\n",
    "<img src=\"./img/cm_adding_event.png\" width=\"400\" />\n",
    "\n",
    "### Operations\n",
    "---\n",
    "#### Point Query $Q(i)$\n",
    "A point query is the estimation of $a_i$ from the original data.\n",
    "\n",
    "<img src=\"./img/cm_point_q.png\" width=\"400\" />\n",
    "$$Q(i) = \\min_j\\text{count}[j, h_j(i)]$$\n",
    "\n",
    "#### Range Query $Q(l, r)$\n",
    "A range query from $l..r$ is the estimation of the sum over that range.\n",
    "$$Q(l,r) = \\sum_{i=l}^r a_i$$\n",
    "To accuratly calculate a range query, $log(n)$ sketches must be kept; one for each set of dyadic ranges spanning $1..n$.\n",
    "\n",
    "#### Inner Product $Q(\\boldsymbol{a}, \\boldsymbol{b})$\n",
    "The inner product between two arrays can be estimated using a sketch for each array and taking the minimum row-wise inner product.\n",
    "$$Q(\\boldsymbol{a}, \\boldsymbol{b}) = \\min_j\\sum_{k=1}^w\\text{count}_a[j, k]*\\text{count}_b[j, k]$$"
   ]
  },
  {
   "cell_type": "code",
   "execution_count": null,
   "metadata": {},
   "outputs": [],
   "source": [
    "import numpy as np # linear algebra\n",
    "import pandas as pd # data processing, CSV file I/O (e.g. pd.read_csv)\n",
    "import seaborn as sns # visualizations\n",
    "import os\n",
    "import glob\n",
    "import time\n",
    "import sys\n",
    "import mmh3\n",
    "# \"pip install mmh3\" should do it"
   ]
  },
  {
   "cell_type": "markdown",
   "metadata": {},
   "source": [
    "Here we will look at the space/time trade offs of a min-sketch versus a more naiive implementation. In the class definitions, fill in the TODO's."
   ]
  },
  {
   "cell_type": "code",
   "execution_count": null,
   "metadata": {},
   "outputs": [],
   "source": [
    "# naively count frequencies\n",
    "\n",
    "class dictionary():\n",
    "    \n",
    "    def __init__(self):\n",
    "        self.dictionary = {}\n",
    "        self.nbytes = sys.getsizeof(self)\n",
    "    \n",
    "    def getsize(self):\n",
    "        print(\"Dictionary is Size: {} Bytes\\n\".format(self.nbytes))\n",
    "        \n",
    "    def add(self,token):\n",
    "        if token in self.dictionary:\n",
    "            self.dictionary[token] += 1\n",
    "        else:\n",
    "            self.dictionary[token] = 1\n",
    "        self.nbytes = sys.getsizeof(self.dictionary)\n",
    "        \n",
    "    def timed_update(self,tokenlist):\n",
    "        startsize = self.nbytes\n",
    "        start = time.time()\n",
    "        for token in tokenlist:\n",
    "            self.add(token)\n",
    "        end = time.time() - start\n",
    "        dsize = self.nbytes - startsize\n",
    "        print(\"Time Elapsed: {} Seconds \\n\".format(end))\n",
    "        print(\"Change In Memory: {} Bytes\\n\".format(dsize))\n",
    "    \n",
    "    def estimate(self,token):\n",
    "        try:\n",
    "            return self.dictionary[token]\n",
    "        except:\n",
    "            print(\"Error: Token Not Found \\n\")"
   ]
  },
  {
   "cell_type": "code",
   "execution_count": null,
   "metadata": {},
   "outputs": [],
   "source": [
    "\n",
    "class CountMinSketch():\n",
    "    \n",
    "    def __init__(self,seqlist=None,indexes=2**6,hashfuncs=2**6):\n",
    "        self.N = indexes\n",
    "        self.M = hashfuncs\n",
    "        self.seeds = np.arange(hashfuncs).tolist()\n",
    "        self.table = np.zeros((self.M,self.N))\n",
    "        self.hashes = [self._genhash(seed) for seed in self.seeds]\n",
    "        self.nbytes = sys.getsizeof(self.table) + sys.getsizeof(self.hashes)\n",
    "        if seqlist is not None:\n",
    "            for value in seqlist:\n",
    "                self.add(value)\n",
    "        \n",
    "    def _genhash(self,seed):\n",
    "        def hash_fn(val):\n",
    "            index = mmh3.hash(val,seed=seed)\n",
    "            return index%self.N\n",
    "        return hash_fn\n",
    "\n",
    "    def getsize(self):\n",
    "        print(\"Sketch is Size: {} Bytes\\n\".format(self.nbytes))\n",
    "        \n",
    "    def add(self, value):      \n",
    "        for ix in range(0, self.M):\n",
    "            column = self.hashes[ix](value)\n",
    "            self.table[ix,column] +=1\n",
    "\n",
    "            \n",
    "    def timed_update(self,valuelist):\n",
    "        start = time.time()\n",
    "        for value in valuelist:\n",
    "            self.add(value)\n",
    "        end = time.time() - start\n",
    "        dsize = sys.getsizeof(self.table) + sys.getsizeof(self.hashes)\n",
    "        print(\"Time Elapsed: {} Seconds \\n\".format(end))\n",
    "        print(\"Memory Useage: {} Bytes\\n\".format(dsize))\n",
    "                              \n",
    "    \n",
    "    def estimate(self, value):\n",
    "        # Implement a point query from the sketch (see figure above if lost)\n",
    "        results = []\n",
    "        for ix in range(0, M):\n",
    "            column = self.hashes[ix](value)\n",
    "            results.append(self.table[ix,column])\n",
    "        return np.min(results)"
   ]
  },
  {
   "cell_type": "markdown",
   "metadata": {},
   "source": [
    "We have taken genomes from the fruit fly (Drosophilia Melanogaster) and from a human chromosome and from them created a list of 16 character sequences so as to simulate \"words\" (Not biologically accurate but it serves our purposes here). Upload these lists of words and store them in your naiive implementation and your CMS implementation and evaluate their performance."
   ]
  },
  {
   "cell_type": "code",
   "execution_count": null,
   "metadata": {},
   "outputs": [],
   "source": [
    "fruitfly = np.load(\"genomedata/fruitfly.npy\")\n",
    "human = np.load(\"genomedata/human.npy\")"
   ]
  },
  {
   "cell_type": "code",
   "execution_count": null,
   "metadata": {},
   "outputs": [],
   "source": [
    "print(fruitfly[:5])"
   ]
  },
  {
   "cell_type": "code",
   "execution_count": null,
   "metadata": {},
   "outputs": [],
   "source": [
    "genomedict = dictionary()\n",
    "genomedict.timed_update(human)"
   ]
  },
  {
   "cell_type": "code",
   "execution_count": null,
   "metadata": {},
   "outputs": [],
   "source": [
    "genomesketch = CountMinSketch()\n",
    "genomesketch.timed_update(human)"
   ]
  },
  {
   "cell_type": "code",
   "execution_count": null,
   "metadata": {},
   "outputs": [],
   "source": [
    "fruitflydict = dictionary()\n",
    "fruitflydict.timed_update(fruitfly)"
   ]
  },
  {
   "cell_type": "code",
   "execution_count": null,
   "metadata": {},
   "outputs": [],
   "source": [
    "fruitflysketch = CountMinSketch()\n",
    "fruitflysketch.timed_update(fruitfly)"
   ]
  },
  {
   "cell_type": "markdown",
   "metadata": {},
   "source": [
    "Reflections:\n",
    "\n",
    "1) Compare and contrast the time/space performance between the naiive implementations of both the fruit fly and human chromosome sequence\n",
    "\n",
    "2) Compare and contrast the time/space performance between the CMS implementations of both the fruit fly and human chromosome sequence\n",
    "\n",
    "3) When might the CMS be a more prudent tool than something more basic?\n",
    "\n",
    "4) Tweak the CMS size (in the init method) to something bigger/smaller (i.e. 2^2,2^9). What does this do to runtime/memory useage?"
   ]
  },
  {
   "cell_type": "markdown",
   "metadata": {},
   "source": [
    "## Kmer Count Similarity\n",
    "---\n",
    "\n",
    "As it turns out, we can use the inner product between two sketches to estimate similiarity.\n",
    "\n",
    "The inner product between two vectors, $\\boldsymbol{a}$ and $\\boldsymbol{b}$ is given by\n",
    "\n",
    "$$\\boldsymbol{a} \\cdot \\boldsymbol{b} = \\|\\boldsymbol{a}\\|\\|\\boldsymbol{b}\\|\\cos{\\theta},$$\n",
    "\n",
    "where $\\theta$ is the angle between the two vectors. As $\\theta$ increases to 90,\n",
    "the dot product decreases. It is maximized when $\\theta$ is at or near 0. We can use\n",
    "this to determine how similar two vectors are.\n",
    "\n",
    "Kmer counts can be viewed as vectors with a large number of dimensions and so dot products can be used\n",
    "to determine similarity. Below we will perform classification of smaller kmer counts by\n",
    "comparing them against larger genome sequence counts using the inner product.\n",
    "Instead of keeping massive count arrays in memory, we will\n",
    "sketch them. Remember that the inner product between two sketches is given by\n",
    "\n",
    "$$Q(\\boldsymbol{a}, \\boldsymbol{b}) = \\min_j\\sum_{k=1}^w\\text{count}_a[j, k]*\\text{count}_b[j, k].$$\n",
    "\n",
    "Here we implement this in BinaryClassification() to see if we can determine whether a sub-sketch (a sketch formed from a portion of a given sequence) came from one \"complete\" sketch or the other. Fill in the blanks and try it out below:"
   ]
  },
  {
   "cell_type": "code",
   "execution_count": null,
   "metadata": {},
   "outputs": [],
   "source": [
    "class BinaryClassification():\n",
    "    # Sketches A and B are the comparison sketches we are trying to compare similarity too.\n",
    "    \n",
    "    def __init__(self,A,B,update=False):\n",
    "        self.sketchA = A\n",
    "        self.sketchB = B\n",
    "        \n",
    "    def _dotProduct(self,tableA,tableB):\n",
    "        return (tableA * tableB).sum(axis=1).min()\n",
    "        \n",
    "    def classify(self,subsketch):\n",
    "        x = self._dotProduct(self.sketchA.table,subsketch.table)\n",
    "        y = self._dotProduct(self.sketchB.table,subsketch.table)\n",
    "        \n",
    "        if x>y:\n",
    "            print(\"Subsketch is of class A\")\n",
    "        else:\n",
    "            print(\"Subsketch is of class B\")"
   ]
  },
  {
   "cell_type": "code",
   "execution_count": null,
   "metadata": {},
   "outputs": [],
   "source": [
    "# Classify these sketches with the BinaryClassification object\n",
    "fly_or_human = BinaryClassification(genomesketch,fruitflysketch)\n",
    "\n",
    "subhuman = CountMinSketch(seqlist=human[::4])\n",
    "subfly =  CountMinSketch(seqlist=fruitfly[::4])\n",
    "\n",
    "fly_or_human.classify(subhuman)\n",
    "fly_or_human.classify(subfly)"
   ]
  },
  {
   "cell_type": "markdown",
   "metadata": {},
   "source": [
    "If you have conviced yourself that a CMS in conjunction with the inner product can serve to create\n",
    "a supervised learning algorithm, then proceed to classify the mystery sequences  with the template\n",
    "class object below. We have provided \"sequences\" containing words/kmers of length 16 from the Atlantic\n",
    "Cod, Fruit Fly, Garter Snake, Human, Nematode, a simulated genome, and Yeast. The answers are in\n",
    "the text file provided.\n",
    "\n",
    "<img src=\"./img/dros_fruit_fly.jpg\" width=\"400\" />\n",
    "<img src=\"./img/namethatpok.jpg\" width=\"400\" />\n"
   ]
  },
  {
   "cell_type": "code",
   "execution_count": null,
   "metadata": {},
   "outputs": [],
   "source": [
    "class classifier():\n",
    "    def __init__(self,sketchset,labels):\n",
    "        self.sketchset = sketchset\n",
    "        self.labels = labels\n",
    "        \n",
    "    def _dotProduct(self,tableA,tableB):\n",
    "        return (tableA * tableB).sum(axis=1).min()\n",
    "        \n",
    "    def compare(self,subsketch):\n",
    "        dotproduct = []\n",
    "        for sketch in self.sketchset:\n",
    "            dotproduct.append(self._dotProduct(sketch.table,subsketch))\n",
    "        return self.labels[np.argmax(dotproduct)]"
   ]
  },
  {
   "cell_type": "code",
   "execution_count": null,
   "metadata": {},
   "outputs": [],
   "source": [
    "# Note that you will need to upload this with numpy and instatiate CMS instances first\n",
    "files = [\n",
    "    \"genomedata/atlanticcod.npy\",\n",
    "    \"genomedata/fruitfly.npy\",\n",
    "    \"genomedata/gartersnake.npy\",\n",
    "    \"genomedata/human.npy\",\n",
    "    \"genomedata/nematode.npy\",\n",
    "    \"genomedata/yeast.npy\",\n",
    "]\n",
    "labels = [\n",
    "    \"Atlantic Cod\",\n",
    "    \"Fruit Fly\",\n",
    "    \"Garter Snake\",\n",
    "    \"Human\",\n",
    "    \"Nematode\",\n",
    "    \"Yeast\",\n",
    "]\n",
    "mysteryfiles = [\n",
    "    \"genomedata/mystery1.npy\",\n",
    "    \"genomedata/mystery2.npy\",\n",
    "    \"genomedata/mystery3.npy\",\n",
    "    \"genomedata/mystery4.npy\",\n",
    "    \"genomedata/mystery5.npy\",\n",
    "    \"genomedata/mystery6.npy\",\n",
    "    \"genomedata/mystery8.npy\",\n",
    "]"
   ]
  },
  {
   "cell_type": "code",
   "execution_count": null,
   "metadata": {},
   "outputs": [],
   "source": [
    "sketchset = [CountMinSketch(seqlist=np.load(file),indexes=2**6,hashfuncs=2**6) for file in files]\n",
    "mysteryset = [CountMinSketch(seqlist=np.load(file),indexes=2**6,hashfuncs=2**6) for file in mysteryfiles]"
   ]
  },
  {
   "cell_type": "code",
   "execution_count": null,
   "metadata": {},
   "outputs": [],
   "source": [
    "mysteryfile = classifier(sketchset,labels)\n",
    "for mysterysketch in mysteryset:\n",
    "    print(mysteryfile.compare(mysterysketch.table))"
   ]
  },
  {
   "cell_type": "code",
   "execution_count": null,
   "metadata": {},
   "outputs": [],
   "source": []
  }
 ],
 "metadata": {
  "kernelspec": {
   "display_name": "Python 3",
   "language": "python",
   "name": "python3"
  },
  "language_info": {
   "codemirror_mode": {
    "name": "ipython",
    "version": 3
   },
   "file_extension": ".py",
   "mimetype": "text/x-python",
   "name": "python",
   "nbconvert_exporter": "python",
   "pygments_lexer": "ipython3",
   "version": "3.7.3"
  }
 },
 "nbformat": 4,
 "nbformat_minor": 2
}
